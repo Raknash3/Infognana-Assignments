{
 "cells": [
  {
   "cell_type": "code",
   "execution_count": 26,
   "metadata": {},
   "outputs": [],
   "source": [
    "from flask import Flask\n",
    "from flask_sqlalchemy import SQLAlchemy"
   ]
  },
  {
   "cell_type": "code",
   "execution_count": 27,
   "metadata": {},
   "outputs": [
    {
     "name": "stderr",
     "output_type": "stream",
     "text": [
      "J:\\Anaconda\\lib\\site-packages\\flask_sqlalchemy\\__init__.py:834: FSADeprecationWarning: SQLALCHEMY_TRACK_MODIFICATIONS adds significant overhead and will be disabled by default in the future.  Set it to True or False to suppress this warning.\n",
      "  'SQLALCHEMY_TRACK_MODIFICATIONS adds significant overhead and '\n"
     ]
    }
   ],
   "source": [
    "app = Flask(__name__)\n",
    "app.config['SQLALCHEMY_DATABASE_URI'] = 'sqlite:////tmp/test.db'\n",
    "db = SQLAlchemy(app)"
   ]
  },
  {
   "cell_type": "markdown",
   "metadata": {},
   "source": [
    "## Create Database Structure"
   ]
  },
  {
   "cell_type": "code",
   "execution_count": 28,
   "metadata": {},
   "outputs": [],
   "source": [
    "class Table(db.Model):\n",
    "    \n",
    "    id = db.Column(db.Integer, primary_key=True)\n",
    "    First_name = db.Column(db.String(80), unique=True, nullable=False)\n",
    "    Last_name = db.Column(db.String(80), unique=True, nullable=False)\n",
    "    Age=  db.Column(db.Integer, primary_key=False)\n",
    "    Company = db.Column(db.String(120), unique=False, nullable=False)\n",
    "    Country= db.Column(db.String(120), unique=False, nullable=False)\n",
    "    \n",
    "    \n",
    "\n",
    "    def __repr__(self):\n",
    "        return '<User %r>' % self.First_name\n",
    "        return '<User %r>' % self.Last_name\n",
    "        return '<User %r>' % self.Age\n",
    "        return '<User %r>' % self.Company\n",
    "        return '<User %r>' % self.Country\n"
   ]
  },
  {
   "cell_type": "code",
   "execution_count": 29,
   "metadata": {},
   "outputs": [],
   "source": [
    "db.create_all()"
   ]
  },
  {
   "cell_type": "markdown",
   "metadata": {},
   "source": [
    "## Add data"
   ]
  },
  {
   "cell_type": "code",
   "execution_count": 30,
   "metadata": {},
   "outputs": [],
   "source": [
    "b = Table(First_name='Brian', Last_name='Walsh',Age='29',Company='Nike',Country='US')\n",
    "a = Table(First_name='Austin', Last_name='Taylor',Age='31',Company='Ebay',Country='US')\n",
    "c = Table(First_name='Connor', Last_name='Jackson',Age='27',Company='Ebay',Country='US')\n",
    "d = Table(First_name='Dylan', Last_name='Fisher',Age='30',Company='Audi',Country='UK')\n",
    "e = Table(First_name='Evan', Last_name='Forsyth',Age='28',Company='Facebook',Country='UK')\n",
    "f = Table(First_name='Frank', Last_name='Fraser',Age='21',Company='Microsoft',Country='US')\n",
    "g = Table(First_name='Gordon', Last_name='Gibson',Age='19',Company='Microsoft',Country='US')\n",
    "h = Table(First_name='Harry', Last_name='Sutherland',Age='25',Company='Ebay',Country='AU')\n",
    "i = Table(First_name='Issac', Last_name='Hunter',Age='26',Company='Cocacola',Country='UK')\n",
    "j = Table(First_name='Justin', Last_name='Ince',Age='25',Company='Adidas',Country='AU')\n",
    "         "
   ]
  },
  {
   "cell_type": "code",
   "execution_count": 31,
   "metadata": {},
   "outputs": [],
   "source": [
    "db.session.add(b)"
   ]
  },
  {
   "cell_type": "code",
   "execution_count": 32,
   "metadata": {},
   "outputs": [],
   "source": [
    "db.session.add(c)\n",
    "db.session.add(d)\n",
    "db.session.add(e)\n",
    "db.session.add(f)\n",
    "db.session.add(g)\n",
    "db.session.add(h)\n",
    "db.session.add(i)\n",
    "db.session.add(j)\n",
    "db.session.add(a)"
   ]
  },
  {
   "cell_type": "code",
   "execution_count": 33,
   "metadata": {},
   "outputs": [],
   "source": [
    "db.session.commit()"
   ]
  },
  {
   "cell_type": "code",
   "execution_count": 34,
   "metadata": {},
   "outputs": [
    {
     "data": {
      "text/plain": [
       "[<User 'Brian'>,\n",
       " <User 'Connor'>,\n",
       " <User 'Dylan'>,\n",
       " <User 'Evan'>,\n",
       " <User 'Frank'>,\n",
       " <User 'Gordon'>,\n",
       " <User 'Harry'>,\n",
       " <User 'Issac'>,\n",
       " <User 'Justin'>,\n",
       " <User 'Austin'>]"
      ]
     },
     "execution_count": 34,
     "metadata": {},
     "output_type": "execute_result"
    }
   ],
   "source": [
    "Table.query.all()"
   ]
  },
  {
   "cell_type": "markdown",
   "metadata": {},
   "source": [
    "## Queries"
   ]
  },
  {
   "cell_type": "code",
   "execution_count": 35,
   "metadata": {},
   "outputs": [
    {
     "data": {
      "text/plain": [
       "10"
      ]
     },
     "execution_count": 35,
     "metadata": {},
     "output_type": "execute_result"
    }
   ],
   "source": [
    "a.id"
   ]
  },
  {
   "cell_type": "code",
   "execution_count": 36,
   "metadata": {},
   "outputs": [
    {
     "data": {
      "text/plain": [
       "1"
      ]
     },
     "execution_count": 36,
     "metadata": {},
     "output_type": "execute_result"
    }
   ],
   "source": [
    "b.id"
   ]
  },
  {
   "cell_type": "markdown",
   "metadata": {},
   "source": [
    "## Filter "
   ]
  },
  {
   "cell_type": "code",
   "execution_count": 43,
   "metadata": {},
   "outputs": [],
   "source": [
    "AU = Table.query.filter_by(Country='AU').first()"
   ]
  },
  {
   "cell_type": "code",
   "execution_count": 44,
   "metadata": {},
   "outputs": [
    {
     "data": {
      "text/plain": [
       "<User 'Harry'>"
      ]
     },
     "execution_count": 44,
     "metadata": {},
     "output_type": "execute_result"
    }
   ],
   "source": [
    "AU"
   ]
  },
  {
   "cell_type": "code",
   "execution_count": 46,
   "metadata": {},
   "outputs": [],
   "source": [
    "Company = Table.query.filter_by(Company='Ebay').all()"
   ]
  },
  {
   "cell_type": "code",
   "execution_count": 47,
   "metadata": {},
   "outputs": [
    {
     "data": {
      "text/plain": [
       "[<User 'Connor'>, <User 'Harry'>, <User 'Austin'>]"
      ]
     },
     "execution_count": 47,
     "metadata": {},
     "output_type": "execute_result"
    }
   ],
   "source": [
    "Company"
   ]
  },
  {
   "cell_type": "markdown",
   "metadata": {},
   "source": [
    "## Delete a particular user"
   ]
  },
  {
   "cell_type": "code",
   "execution_count": 48,
   "metadata": {},
   "outputs": [],
   "source": [
    "db.session.delete(a)\n"
   ]
  },
  {
   "cell_type": "code",
   "execution_count": 50,
   "metadata": {},
   "outputs": [],
   "source": [
    "db.session.commit()"
   ]
  },
  {
   "cell_type": "markdown",
   "metadata": {},
   "source": [
    "## Sorting"
   ]
  },
  {
   "cell_type": "code",
   "execution_count": 53,
   "metadata": {},
   "outputs": [
    {
     "data": {
      "text/plain": [
       "[<User 'Gordon'>,\n",
       " <User 'Frank'>,\n",
       " <User 'Harry'>,\n",
       " <User 'Justin'>,\n",
       " <User 'Issac'>,\n",
       " <User 'Connor'>,\n",
       " <User 'Evan'>,\n",
       " <User 'Brian'>,\n",
       " <User 'Dylan'>]"
      ]
     },
     "execution_count": 53,
     "metadata": {},
     "output_type": "execute_result"
    }
   ],
   "source": [
    "Table.query.order_by(Table.Age).all()"
   ]
  },
  {
   "cell_type": "code",
   "execution_count": null,
   "metadata": {},
   "outputs": [],
   "source": []
  }
 ],
 "metadata": {
  "kernelspec": {
   "display_name": "Python 3",
   "language": "python",
   "name": "python3"
  },
  "language_info": {
   "codemirror_mode": {
    "name": "ipython",
    "version": 3
   },
   "file_extension": ".py",
   "mimetype": "text/x-python",
   "name": "python",
   "nbconvert_exporter": "python",
   "pygments_lexer": "ipython3",
   "version": "3.6.7"
  }
 },
 "nbformat": 4,
 "nbformat_minor": 4
}

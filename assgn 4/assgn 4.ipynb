{
 "cells": [
  {
   "cell_type": "code",
   "execution_count": 1,
   "metadata": {},
   "outputs": [],
   "source": [
    "import openpyxl\n"
   ]
  },
  {
   "cell_type": "code",
   "execution_count": 2,
   "metadata": {},
   "outputs": [],
   "source": [
    "wb = openpyxl.load_workbook('IG.xlsx')\n",
    "w= openpyxl.Workbook() "
   ]
  },
  {
   "cell_type": "code",
   "execution_count": 3,
   "metadata": {},
   "outputs": [],
   "source": [
    "sheet =w.active\n"
   ]
  },
  {
   "cell_type": "code",
   "execution_count": 4,
   "metadata": {},
   "outputs": [
    {
     "data": {
      "text/plain": [
       "['Assignment-I',\n",
       " 'Assignment-II',\n",
       " 'Assignment-III',\n",
       " 'Assignment-IV',\n",
       " 'Assignment-V']"
      ]
     },
     "execution_count": 4,
     "metadata": {},
     "output_type": "execute_result"
    }
   ],
   "source": [
    "wb.sheetnames"
   ]
  },
  {
   "cell_type": "code",
   "execution_count": 5,
   "metadata": {},
   "outputs": [
    {
     "data": {
      "text/plain": [
       "['Sheet']"
      ]
     },
     "execution_count": 5,
     "metadata": {},
     "output_type": "execute_result"
    }
   ],
   "source": [
    "w.sheetnames"
   ]
  },
  {
   "cell_type": "code",
   "execution_count": 6,
   "metadata": {},
   "outputs": [],
   "source": [
    "wb2=wb['Assignment-IV']"
   ]
  },
  {
   "cell_type": "code",
   "execution_count": 7,
   "metadata": {},
   "outputs": [
    {
     "data": {
      "text/plain": [
       "<Worksheet \"Sheet\">"
      ]
     },
     "execution_count": 7,
     "metadata": {},
     "output_type": "execute_result"
    }
   ],
   "source": [
    "sheet"
   ]
  },
  {
   "cell_type": "code",
   "execution_count": 8,
   "metadata": {},
   "outputs": [
    {
     "data": {
      "text/plain": [
       "<Worksheet \"Assignment-IV\">"
      ]
     },
     "execution_count": 8,
     "metadata": {},
     "output_type": "execute_result"
    }
   ],
   "source": [
    "wb2"
   ]
  },
  {
   "cell_type": "code",
   "execution_count": 9,
   "metadata": {},
   "outputs": [
    {
     "data": {
      "text/plain": [
       "'QC validation & report logging'"
      ]
     },
     "execution_count": 9,
     "metadata": {},
     "output_type": "execute_result"
    }
   ],
   "source": [
    "wb2.cell(row=3, column=2).value"
   ]
  },
  {
   "cell_type": "code",
   "execution_count": 10,
   "metadata": {},
   "outputs": [],
   "source": [
    "wb2.delete_rows(1,20)"
   ]
  },
  {
   "cell_type": "code",
   "execution_count": 11,
   "metadata": {},
   "outputs": [],
   "source": [
    "log=[]\n",
    "\n",
    "for i in range(2,wb2.max_row+1):\n",
    "    if wb2.cell(row=i, column=8).value is None :\n",
    "        j=str(wb2.cell(row=i, column=1).value)\n",
    "        x='Removed UID:'+j+' '+'for having Brand attribute blank'\n",
    "        log.append(x)\n",
    "    elif wb2.cell(row=i, column=13).value.islower()== False:\n",
    "        j=str(wb2.cell(row=i, column=1).value)\n",
    "        y='Removed UID:'+j+' '+'for not having Color attribute in only small letters'\n",
    "        log.append(y)\n",
    "    elif wb2.cell(row=i, column=78).value!='Found':\n",
    "        j=str(wb2.cell(row=i, column=1).value)\n",
    "        z='Removed UID:'+j+' '+'for having Status attribute as not found'\n",
    "        log.append(z)\n",
    "    elif (wb2.cell(row=i,column=4).value=='bowls') and (wb2.cell(row=i,column=15).value is None):\n",
    "        j=str(wb2.cell(row=i, column=1).value)\n",
    "        a='Removed UID:'+j+' '+'for having size unit blank for Product type: Bowls'\n",
    "        log.append(a)\n",
    "    elif wb2.cell(row=i, column=11).value.isdecimal()== False:\n",
    "        j=str(wb2.cell(row=i, column=1).value)\n",
    "        b='Removed UID:'+j+' '+'for having alphabets in Model Number attribute'\n",
    "        log.append(b)"
   ]
  },
  {
   "cell_type": "code",
   "execution_count": 12,
   "metadata": {},
   "outputs": [],
   "source": [
    "i=2 \n",
    "while i <= wb2.max_row:\n",
    "     if wb2.cell(row=i, column=8).value is None :\n",
    "        wb2.delete_rows(i)\n",
    "     elif  wb2.cell(row=i, column=13).value.islower()== False:\n",
    "         wb2.delete_rows(i) \n",
    "     elif wb2.cell(row=i, column=78).value!='Found':\n",
    "         wb2.delete_rows(i) \n",
    "     elif (wb2.cell(row=i,column=4).value=='bowls') and (wb2.cell(row=i,column=15).value is None):\n",
    "         wb2.delete_rows(i) \n",
    "     elif wb2.cell(row=i, column=11).value.isdecimal()== False:\n",
    "         wb2.delete_rows(i) \n",
    "     else:\n",
    "        i+=1        "
   ]
  },
  {
   "cell_type": "code",
   "execution_count": 13,
   "metadata": {},
   "outputs": [
    {
     "name": "stdout",
     "output_type": "stream",
     "text": [
      "['Removed UID:7 for having Status attribute as not found', 'Removed UID:8 for having alphabets in Model Number attribute', 'Removed UID:12 for having alphabets in Model Number attribute', 'Removed UID:15 for having Brand attribute blank', 'Removed UID:16 for having Brand attribute blank', 'Removed UID:18 for having Status attribute as not found', 'Removed UID:19 for having Status attribute as not found', 'Removed UID:20 for having Status attribute as not found', 'Removed UID:21 for having alphabets in Model Number attribute', 'Removed UID:27 for having Brand attribute blank', 'Removed UID:28 for having Brand attribute blank', 'Removed UID:29 for having Status attribute as not found']\n"
     ]
    }
   ],
   "source": [
    "print(log)"
   ]
  },
  {
   "cell_type": "code",
   "execution_count": 14,
   "metadata": {},
   "outputs": [],
   "source": [
    "for i in range(2,wb2.max_row+1):\n",
    "    for j in range (1,wb2.max_column+1):\n",
    "        if wb2.cell(row=i, column=j).value is None:\n",
    "            c=wb2.cell(row=i, column=j)\n",
    "            c.value='N/A'"
   ]
  },
  {
   "cell_type": "code",
   "execution_count": 15,
   "metadata": {},
   "outputs": [],
   "source": [
    "for i in range(1,wb2.max_row+1):\n",
    "    for j in range (1,wb2.max_column+1):\n",
    "            f=wb2.cell(row=i, column=j)\n",
    "            sheet.cell(row=i, column=j).value=f.value"
   ]
  },
  {
   "cell_type": "code",
   "execution_count": 16,
   "metadata": {},
   "outputs": [
    {
     "data": {
      "text/plain": [
       "['Sheet']"
      ]
     },
     "execution_count": 16,
     "metadata": {},
     "output_type": "execute_result"
    }
   ],
   "source": [
    "w.sheetnames"
   ]
  },
  {
   "cell_type": "code",
   "execution_count": 17,
   "metadata": {},
   "outputs": [
    {
     "data": {
      "text/plain": [
       "<openpyxl.workbook.workbook.Workbook at 0x24ee5aa55f8>"
      ]
     },
     "execution_count": 17,
     "metadata": {},
     "output_type": "execute_result"
    }
   ],
   "source": [
    "w"
   ]
  },
  {
   "cell_type": "code",
   "execution_count": 18,
   "metadata": {},
   "outputs": [],
   "source": [
    "w.save('Completed.xlsx')"
   ]
  },
  {
   "cell_type": "code",
   "execution_count": 19,
   "metadata": {},
   "outputs": [],
   "source": [
    "with open('Log.txt', 'w') as f:\n",
    "    for item in log:\n",
    "        f.write(\"%s\\n\" % item)"
   ]
  },
  {
   "cell_type": "code",
   "execution_count": null,
   "metadata": {},
   "outputs": [],
   "source": []
  }
 ],
 "metadata": {
  "kernelspec": {
   "display_name": "Python 3",
   "language": "python",
   "name": "python3"
  },
  "language_info": {
   "codemirror_mode": {
    "name": "ipython",
    "version": 3
   },
   "file_extension": ".py",
   "mimetype": "text/x-python",
   "name": "python",
   "nbconvert_exporter": "python",
   "pygments_lexer": "ipython3",
   "version": "3.6.7"
  }
 },
 "nbformat": 4,
 "nbformat_minor": 4
}

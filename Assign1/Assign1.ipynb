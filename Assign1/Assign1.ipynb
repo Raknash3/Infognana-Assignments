{
 "cells": [
  {
   "cell_type": "code",
   "execution_count": 1,
   "metadata": {},
   "outputs": [],
   "source": [
    "from selenium import webdriver\n",
    "from bs4 import BeautifulSoup\n",
    "import pandas as pd"
   ]
  },
  {
   "cell_type": "code",
   "execution_count": 2,
   "metadata": {},
   "outputs": [],
   "source": [
    "driver = webdriver.Chrome(\"chromedriver\")\n",
    "driver.get('https://healthandglow.com/bath-and-body/body')"
   ]
  },
  {
   "cell_type": "code",
   "execution_count": 3,
   "metadata": {},
   "outputs": [],
   "source": [
    "content = driver.page_source\n",
    "soup = BeautifulSoup(content)\n"
   ]
  },
  {
   "cell_type": "code",
   "execution_count": 26,
   "metadata": {},
   "outputs": [],
   "source": [
    "product_name=[]\n",
    "product_image=[]\n",
    "regular_price=[]\n",
    "discount_price=[]\n",
    "ratings=[]"
   ]
  },
  {
   "cell_type": "code",
   "execution_count": null,
   "metadata": {},
   "outputs": [],
   "source": []
  },
  {
   "cell_type": "code",
   "execution_count": 27,
   "metadata": {},
   "outputs": [],
   "source": [
    "content = driver.page_source\n",
    "soup = BeautifulSoup(content)"
   ]
  },
  {
   "cell_type": "code",
   "execution_count": 28,
   "metadata": {},
   "outputs": [],
   "source": [
    "for i in soup.findAll('a',href=True, attrs={'class':'clearfix'}):\n",
    "    name=i.find('p', attrs={'class':'ellipsis product-card-title'})\n",
    "    reg=i.find('span', attrs={'class':'warm-grey'})\n",
    "    act=i.find('span', attrs={'class':'scarlet'})\n",
    "    rating=i.find('span',attrs={'class':'pumpkin-orange'})\n",
    "    img=i.find('img')\n",
    "    product_name.append(name.text)\n",
    "    regular_price.append(reg)\n",
    "    discount_price.append(act.text)\n",
    "    ratings.append(rating)\n",
    "    product_image.append(img)"
   ]
  },
  {
   "cell_type": "code",
   "execution_count": 29,
   "metadata": {},
   "outputs": [],
   "source": [
    "count=driver.find_element_by_class_name('product-category-title')"
   ]
  },
  {
   "cell_type": "code",
   "execution_count": 30,
   "metadata": {},
   "outputs": [
    {
     "data": {
      "text/plain": [
       "'Body - 290 products'"
      ]
     },
     "execution_count": 30,
     "metadata": {},
     "output_type": "execute_result"
    }
   ],
   "source": [
    "count.text"
   ]
  },
  {
   "cell_type": "code",
   "execution_count": 31,
   "metadata": {},
   "outputs": [
    {
     "data": {
      "text/plain": [
       "80"
      ]
     },
     "execution_count": 31,
     "metadata": {},
     "output_type": "execute_result"
    }
   ],
   "source": [
    "len(discount_price)"
   ]
  },
  {
   "cell_type": "code",
   "execution_count": 32,
   "metadata": {},
   "outputs": [],
   "source": [
    "for i in range(len(discount_price)):\n",
    "    if regular_price[i] is None:\n",
    "        regular_price[i]=discount_price[i]\n",
    "    else:\n",
    "        regular_price[i]=(regular_price[i].text)"
   ]
  },
  {
   "cell_type": "code",
   "execution_count": 33,
   "metadata": {},
   "outputs": [
    {
     "data": {
      "text/plain": [
       "80"
      ]
     },
     "execution_count": 33,
     "metadata": {},
     "output_type": "execute_result"
    }
   ],
   "source": [
    "len(regular_price)"
   ]
  },
  {
   "cell_type": "code",
   "execution_count": 34,
   "metadata": {},
   "outputs": [
    {
     "name": "stdout",
     "output_type": "stream",
     "text": [
      "['590', '375', '375', '185', '285', '950', '375', '649', '699', '185', '470', '250', '650', '185', '390', '180', '649', '1195', '410', '990', '249', '199', '249', '390', '345', '575', '270', '190', '160', '375', '650', '575', '270', '195', '699', '350', '205', '225', '225', '225', '225', '225', '225', '950', '560', '270', '975', '399', '810', '440', '480', '399', '595', '580', '669', '350', '669', '180', '399', '669', '375', '770', '669', '310', '400', '749', '399', '160', '749', '315', '280', '375', '260', '399', '275', '279', '415', '279', '180', '499']\n"
     ]
    }
   ],
   "source": [
    "regular_price=[i[2:] for i in regular_price]\n",
    "print(regular_price)"
   ]
  },
  {
   "cell_type": "code",
   "execution_count": 35,
   "metadata": {},
   "outputs": [
    {
     "name": "stdout",
     "output_type": "stream",
     "text": [
      "['395', '308', '308', '157', '175', '950', '265', '454', '699', '157', '353', '180', '325', '157', '195', '144', '454', '896', '300', '990', '187', '179', '187', '312', '255', '431', '190', '162', '120', '285', '488', '431', '203', '166', '524', '175', '174', '191', '191', '191', '191', '191', '191', '855', '560', '203', '975', '399', '810', '440', '480', '399', '595', '580', '669', '350', '669', '180', '399', '669', '375', '770', '669', '310', '400', '749', '399', '160', '749', '315', '280', '375', '260', '399', '275', '279', '415', '279', '180', '499']\n"
     ]
    }
   ],
   "source": [
    "discount_price=[i[2:] for i in discount_price]\n",
    "print(discount_price)"
   ]
  },
  {
   "cell_type": "code",
   "execution_count": 36,
   "metadata": {},
   "outputs": [],
   "source": [
    "for i in range(len(ratings)):\n",
    "    if (ratings[i] is None):\n",
    "        ratings[i]='0'\n",
    "    else:\n",
    "        ratings[i]=(ratings[i].text)"
   ]
  },
  {
   "cell_type": "code",
   "execution_count": 37,
   "metadata": {},
   "outputs": [],
   "source": [
    "image=[]\n",
    "for i in range(len(discount_price)):\n",
    "    if(product_image[i] is None):\n",
    "        p2='Not available'\n",
    "    else:\n",
    "        p1=(product_image[i].attrs)\n",
    "        p2=p1['src']\n",
    "    \n",
    "    image.append(p2)"
   ]
  },
  {
   "cell_type": "code",
   "execution_count": 38,
   "metadata": {},
   "outputs": [],
   "source": [
    "Total_counts=len(discount_price)"
   ]
  },
  {
   "cell_type": "code",
   "execution_count": 40,
   "metadata": {},
   "outputs": [],
   "source": [
    "df = pd.DataFrame({'Product Name':product_name,'Markdown Price':discount_price,'Regular Price':regular_price,'Ratings':ratings,'Image link':image}) "
   ]
  },
  {
   "cell_type": "code",
   "execution_count": 41,
   "metadata": {},
   "outputs": [
    {
     "data": {
      "text/html": [
       "<div>\n",
       "<style scoped>\n",
       "    .dataframe tbody tr th:only-of-type {\n",
       "        vertical-align: middle;\n",
       "    }\n",
       "\n",
       "    .dataframe tbody tr th {\n",
       "        vertical-align: top;\n",
       "    }\n",
       "\n",
       "    .dataframe thead th {\n",
       "        text-align: right;\n",
       "    }\n",
       "</style>\n",
       "<table border=\"1\" class=\"dataframe\">\n",
       "  <thead>\n",
       "    <tr style=\"text-align: right;\">\n",
       "      <th></th>\n",
       "      <th>Product Name</th>\n",
       "      <th>Markdown Price</th>\n",
       "      <th>Regular Price</th>\n",
       "      <th>Ratings</th>\n",
       "      <th>Image link</th>\n",
       "    </tr>\n",
       "  </thead>\n",
       "  <tbody>\n",
       "    <tr>\n",
       "      <th>0</th>\n",
       "      <td>Biotique Bio Vera Ultra Soothing Sunscreen Bod...</td>\n",
       "      <td>395</td>\n",
       "      <td>590</td>\n",
       "      <td>5</td>\n",
       "      <td>https://storage.googleapis.com/hng-static/plp/...</td>\n",
       "    </tr>\n",
       "    <tr>\n",
       "      <th>1</th>\n",
       "      <td>Nivea Body Milk Shea Smooth Deep Moisture Seru...</td>\n",
       "      <td>308</td>\n",
       "      <td>375</td>\n",
       "      <td>3</td>\n",
       "      <td>https://storage.googleapis.com/hng-static/plp/...</td>\n",
       "    </tr>\n",
       "    <tr>\n",
       "      <th>2</th>\n",
       "      <td>Nivea Nourishing Lotion Body Milk with Deep Mo...</td>\n",
       "      <td>308</td>\n",
       "      <td>375</td>\n",
       "      <td>3</td>\n",
       "      <td>https://storage.googleapis.com/hng-static/plp/...</td>\n",
       "    </tr>\n",
       "    <tr>\n",
       "      <th>3</th>\n",
       "      <td>Nivea Whitening Smooth Skin Roll On 50ml</td>\n",
       "      <td>157</td>\n",
       "      <td>185</td>\n",
       "      <td>4</td>\n",
       "      <td>https://storage.googleapis.com/hng-static/prod...</td>\n",
       "    </tr>\n",
       "    <tr>\n",
       "      <th>4</th>\n",
       "      <td>Vaseline Intensive Care Deep Restore Body Loti...</td>\n",
       "      <td>175</td>\n",
       "      <td>285</td>\n",
       "      <td>5</td>\n",
       "      <td>https://storage.googleapis.com/hng-static/plp/...</td>\n",
       "    </tr>\n",
       "  </tbody>\n",
       "</table>\n",
       "</div>"
      ],
      "text/plain": [
       "                                        Product Name Markdown Price  \\\n",
       "0  Biotique Bio Vera Ultra Soothing Sunscreen Bod...            395   \n",
       "1  Nivea Body Milk Shea Smooth Deep Moisture Seru...            308   \n",
       "2  Nivea Nourishing Lotion Body Milk with Deep Mo...            308   \n",
       "3           Nivea Whitening Smooth Skin Roll On 50ml            157   \n",
       "4  Vaseline Intensive Care Deep Restore Body Loti...            175   \n",
       "\n",
       "  Regular Price Ratings                                         Image link  \n",
       "0           590       5  https://storage.googleapis.com/hng-static/plp/...  \n",
       "1           375       3  https://storage.googleapis.com/hng-static/plp/...  \n",
       "2           375       3  https://storage.googleapis.com/hng-static/plp/...  \n",
       "3           185       4  https://storage.googleapis.com/hng-static/prod...  \n",
       "4           285       5  https://storage.googleapis.com/hng-static/plp/...  "
      ]
     },
     "execution_count": 41,
     "metadata": {},
     "output_type": "execute_result"
    }
   ],
   "source": [
    "df.head()"
   ]
  },
  {
   "cell_type": "code",
   "execution_count": 42,
   "metadata": {},
   "outputs": [
    {
     "data": {
      "text/html": [
       "<div>\n",
       "<style scoped>\n",
       "    .dataframe tbody tr th:only-of-type {\n",
       "        vertical-align: middle;\n",
       "    }\n",
       "\n",
       "    .dataframe tbody tr th {\n",
       "        vertical-align: top;\n",
       "    }\n",
       "\n",
       "    .dataframe thead th {\n",
       "        text-align: right;\n",
       "    }\n",
       "</style>\n",
       "<table border=\"1\" class=\"dataframe\">\n",
       "  <thead>\n",
       "    <tr style=\"text-align: right;\">\n",
       "      <th></th>\n",
       "      <th>Product Name</th>\n",
       "      <th>Markdown Price</th>\n",
       "      <th>Regular Price</th>\n",
       "      <th>Ratings</th>\n",
       "      <th>Image link</th>\n",
       "    </tr>\n",
       "  </thead>\n",
       "  <tbody>\n",
       "    <tr>\n",
       "      <th>75</th>\n",
       "      <td>Nike Extreme Deodorant For Women 200ml</td>\n",
       "      <td>279</td>\n",
       "      <td>279</td>\n",
       "      <td>0</td>\n",
       "      <td>Not available</td>\n",
       "    </tr>\n",
       "    <tr>\n",
       "      <th>76</th>\n",
       "      <td>VLCC Natural Science De Tan Sunscreen Gel Crem...</td>\n",
       "      <td>415</td>\n",
       "      <td>415</td>\n",
       "      <td>5</td>\n",
       "      <td>Not available</td>\n",
       "    </tr>\n",
       "    <tr>\n",
       "      <th>77</th>\n",
       "      <td>Nike Up Or Down Deodorant For Women 200ml</td>\n",
       "      <td>279</td>\n",
       "      <td>279</td>\n",
       "      <td>0</td>\n",
       "      <td>Not available</td>\n",
       "    </tr>\n",
       "    <tr>\n",
       "      <th>78</th>\n",
       "      <td>Biotique Bio Coco Butter Tissue Firming Body B...</td>\n",
       "      <td>180</td>\n",
       "      <td>180</td>\n",
       "      <td>0</td>\n",
       "      <td>Not available</td>\n",
       "    </tr>\n",
       "    <tr>\n",
       "      <th>79</th>\n",
       "      <td>Jergens Shea Butter moisturiser Lotion 400ml</td>\n",
       "      <td>499</td>\n",
       "      <td>499</td>\n",
       "      <td>0</td>\n",
       "      <td>Not available</td>\n",
       "    </tr>\n",
       "  </tbody>\n",
       "</table>\n",
       "</div>"
      ],
      "text/plain": [
       "                                         Product Name Markdown Price  \\\n",
       "75             Nike Extreme Deodorant For Women 200ml            279   \n",
       "76  VLCC Natural Science De Tan Sunscreen Gel Crem...            415   \n",
       "77          Nike Up Or Down Deodorant For Women 200ml            279   \n",
       "78  Biotique Bio Coco Butter Tissue Firming Body B...            180   \n",
       "79       Jergens Shea Butter moisturiser Lotion 400ml            499   \n",
       "\n",
       "   Regular Price Ratings     Image link  \n",
       "75           279       0  Not available  \n",
       "76           415       5  Not available  \n",
       "77           279       0  Not available  \n",
       "78           180       0  Not available  \n",
       "79           499       0  Not available  "
      ]
     },
     "execution_count": 42,
     "metadata": {},
     "output_type": "execute_result"
    }
   ],
   "source": [
    "df.tail()"
   ]
  },
  {
   "cell_type": "code",
   "execution_count": null,
   "metadata": {},
   "outputs": [],
   "source": []
  },
  {
   "cell_type": "code",
   "execution_count": 80,
   "metadata": {},
   "outputs": [],
   "source": [
    "df.to_csv('products.csv',sep='\\t', index=False, encoding='utf-8')"
   ]
  },
  {
   "cell_type": "code",
   "execution_count": 43,
   "metadata": {},
   "outputs": [
    {
     "name": "stdout",
     "output_type": "stream",
     "text": [
      "Total Count:  Body - 290 products\n"
     ]
    }
   ],
   "source": [
    "print(\"Total Count: \",count.text)"
   ]
  },
  {
   "cell_type": "code",
   "execution_count": null,
   "metadata": {},
   "outputs": [],
   "source": []
  },
  {
   "cell_type": "code",
   "execution_count": null,
   "metadata": {},
   "outputs": [],
   "source": []
  },
  {
   "cell_type": "code",
   "execution_count": null,
   "metadata": {},
   "outputs": [],
   "source": []
  },
  {
   "cell_type": "code",
   "execution_count": null,
   "metadata": {},
   "outputs": [],
   "source": []
  },
  {
   "cell_type": "code",
   "execution_count": null,
   "metadata": {},
   "outputs": [],
   "source": []
  },
  {
   "cell_type": "code",
   "execution_count": null,
   "metadata": {},
   "outputs": [],
   "source": []
  },
  {
   "cell_type": "code",
   "execution_count": null,
   "metadata": {},
   "outputs": [],
   "source": []
  },
  {
   "cell_type": "code",
   "execution_count": null,
   "metadata": {},
   "outputs": [],
   "source": [
    "\n"
   ]
  },
  {
   "cell_type": "code",
   "execution_count": null,
   "metadata": {},
   "outputs": [],
   "source": []
  }
 ],
 "metadata": {
  "kernelspec": {
   "display_name": "Python 3",
   "language": "python",
   "name": "python3"
  },
  "language_info": {
   "codemirror_mode": {
    "name": "ipython",
    "version": 3
   },
   "file_extension": ".py",
   "mimetype": "text/x-python",
   "name": "python",
   "nbconvert_exporter": "python",
   "pygments_lexer": "ipython3",
   "version": "3.6.7"
  }
 },
 "nbformat": 4,
 "nbformat_minor": 4
}
